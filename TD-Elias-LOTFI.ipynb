{
 "cells": [
  {
   "cell_type": "code",
   "execution_count": 272,
   "id": "recognized-wrapping",
   "metadata": {},
   "outputs": [],
   "source": [
    "import pandas as pd\n",
    "import numpy as numpy"
   ]
  },
  {
   "cell_type": "markdown",
   "id": "consolidated-escape",
   "metadata": {},
   "source": [
    "### 1) Lire le fichier CSV via Pandas "
   ]
  },
  {
   "cell_type": "code",
   "execution_count": 271,
   "id": "another-trading",
   "metadata": {},
   "outputs": [
    {
     "data": {
      "text/html": [
       "<div>\n",
       "<style scoped>\n",
       "    .dataframe tbody tr th:only-of-type {\n",
       "        vertical-align: middle;\n",
       "    }\n",
       "\n",
       "    .dataframe tbody tr th {\n",
       "        vertical-align: top;\n",
       "    }\n",
       "\n",
       "    .dataframe thead th {\n",
       "        text-align: right;\n",
       "    }\n",
       "</style>\n",
       "<table border=\"1\" class=\"dataframe\">\n",
       "  <thead>\n",
       "    <tr style=\"text-align: right;\">\n",
       "      <th></th>\n",
       "      <th>capacity</th>\n",
       "      <th>failure_rate</th>\n",
       "      <th>id</th>\n",
       "      <th>margin</th>\n",
       "      <th>price</th>\n",
       "      <th>prod_cost</th>\n",
       "      <th>product_type</th>\n",
       "      <th>quality</th>\n",
       "      <th>warranty</th>\n",
       "      <th>market_share</th>\n",
       "      <th>attractiveness</th>\n",
       "    </tr>\n",
       "  </thead>\n",
       "  <tbody>\n",
       "    <tr>\n",
       "      <th>0</th>\n",
       "      <td>10.492623</td>\n",
       "      <td>0.042528</td>\n",
       "      <td>18377</td>\n",
       "      <td>633.766584</td>\n",
       "      <td>828.802103</td>\n",
       "      <td>195.035519</td>\n",
       "      <td>auto-portee</td>\n",
       "      <td>Low</td>\n",
       "      <td>3ans</td>\n",
       "      <td>0.006360</td>\n",
       "      <td>0.650648</td>\n",
       "    </tr>\n",
       "    <tr>\n",
       "      <th>1</th>\n",
       "      <td>20.273730</td>\n",
       "      <td>0.037896</td>\n",
       "      <td>19363</td>\n",
       "      <td>731.576817</td>\n",
       "      <td>882.894916</td>\n",
       "      <td>151.318099</td>\n",
       "      <td>auto-portee</td>\n",
       "      <td>Low</td>\n",
       "      <td>3 ans.</td>\n",
       "      <td>0.006840</td>\n",
       "      <td>0.699792</td>\n",
       "    </tr>\n",
       "    <tr>\n",
       "      <th>2</th>\n",
       "      <td>20.190457</td>\n",
       "      <td>0.039111</td>\n",
       "      <td>19641</td>\n",
       "      <td>741.218202</td>\n",
       "      <td>919.355522</td>\n",
       "      <td>178.137319</td>\n",
       "      <td>auto-portee</td>\n",
       "      <td>Low</td>\n",
       "      <td>3_ans</td>\n",
       "      <td>0.006179</td>\n",
       "      <td>0.632129</td>\n",
       "    </tr>\n",
       "    <tr>\n",
       "      <th>3</th>\n",
       "      <td>27.220131</td>\n",
       "      <td>0.041303</td>\n",
       "      <td>18728</td>\n",
       "      <td>654.255635</td>\n",
       "      <td>817.085097</td>\n",
       "      <td>162.829462</td>\n",
       "      <td>auto-portee</td>\n",
       "      <td>Low</td>\n",
       "      <td>3 anss</td>\n",
       "      <td>0.007925</td>\n",
       "      <td>0.810730</td>\n",
       "    </tr>\n",
       "    <tr>\n",
       "      <th>4</th>\n",
       "      <td>16.370911</td>\n",
       "      <td>0.037938</td>\n",
       "      <td>18722</td>\n",
       "      <td>703.094527</td>\n",
       "      <td>844.581465</td>\n",
       "      <td>141.486938</td>\n",
       "      <td>auto-portee</td>\n",
       "      <td>Medium</td>\n",
       "      <td>3ans.</td>\n",
       "      <td>0.007406</td>\n",
       "      <td>0.757614</td>\n",
       "    </tr>\n",
       "    <tr>\n",
       "      <th>...</th>\n",
       "      <td>...</td>\n",
       "      <td>...</td>\n",
       "      <td>...</td>\n",
       "      <td>...</td>\n",
       "      <td>...</td>\n",
       "      <td>...</td>\n",
       "      <td>...</td>\n",
       "      <td>...</td>\n",
       "      <td>...</td>\n",
       "      <td>...</td>\n",
       "      <td>...</td>\n",
       "    </tr>\n",
       "    <tr>\n",
       "      <th>1394</th>\n",
       "      <td>44.959895</td>\n",
       "      <td>0.234647</td>\n",
       "      <td>18451</td>\n",
       "      <td>63.662561</td>\n",
       "      <td>75.161102</td>\n",
       "      <td>11.498540</td>\n",
       "      <td>essence</td>\n",
       "      <td>Medium</td>\n",
       "      <td>1 an</td>\n",
       "      <td>0.000973</td>\n",
       "      <td>0.513126</td>\n",
       "    </tr>\n",
       "    <tr>\n",
       "      <th>1395</th>\n",
       "      <td>59.356058</td>\n",
       "      <td>0.253694</td>\n",
       "      <td>18663</td>\n",
       "      <td>64.014543</td>\n",
       "      <td>75.395132</td>\n",
       "      <td>11.380589</td>\n",
       "      <td>essence</td>\n",
       "      <td>Low</td>\n",
       "      <td>1ans</td>\n",
       "      <td>0.001038</td>\n",
       "      <td>0.547739</td>\n",
       "    </tr>\n",
       "    <tr>\n",
       "      <th>1396</th>\n",
       "      <td>67.865222</td>\n",
       "      <td>0.228935</td>\n",
       "      <td>19169</td>\n",
       "      <td>62.132035</td>\n",
       "      <td>810.883148</td>\n",
       "      <td>NaN</td>\n",
       "      <td>essence</td>\n",
       "      <td>Low</td>\n",
       "      <td>1an.</td>\n",
       "      <td>0.001243</td>\n",
       "      <td>0.655622</td>\n",
       "    </tr>\n",
       "    <tr>\n",
       "      <th>1397</th>\n",
       "      <td>66.855435</td>\n",
       "      <td>0.244948</td>\n",
       "      <td>18946</td>\n",
       "      <td>58.697122</td>\n",
       "      <td>68.491318</td>\n",
       "      <td>9.794197</td>\n",
       "      <td>essence</td>\n",
       "      <td>Low</td>\n",
       "      <td>1 an</td>\n",
       "      <td>0.001644</td>\n",
       "      <td>0.867537</td>\n",
       "    </tr>\n",
       "    <tr>\n",
       "      <th>1398</th>\n",
       "      <td>54.712713</td>\n",
       "      <td>0.177143</td>\n",
       "      <td>19017</td>\n",
       "      <td>64.259212</td>\n",
       "      <td>74.955428</td>\n",
       "      <td>10.696216</td>\n",
       "      <td>essence</td>\n",
       "      <td>Low</td>\n",
       "      <td>1an.</td>\n",
       "      <td>0.001022</td>\n",
       "      <td>0.538969</td>\n",
       "    </tr>\n",
       "  </tbody>\n",
       "</table>\n",
       "<p>1399 rows × 11 columns</p>\n",
       "</div>"
      ],
      "text/plain": [
       "       capacity  failure_rate     id      margin       price   prod_cost  \\\n",
       "0     10.492623      0.042528  18377  633.766584  828.802103  195.035519   \n",
       "1     20.273730      0.037896  19363  731.576817  882.894916  151.318099   \n",
       "2     20.190457      0.039111  19641  741.218202  919.355522  178.137319   \n",
       "3     27.220131      0.041303  18728  654.255635  817.085097  162.829462   \n",
       "4     16.370911      0.037938  18722  703.094527  844.581465  141.486938   \n",
       "...         ...           ...    ...         ...         ...         ...   \n",
       "1394  44.959895      0.234647  18451   63.662561   75.161102   11.498540   \n",
       "1395  59.356058      0.253694  18663   64.014543   75.395132   11.380589   \n",
       "1396  67.865222      0.228935  19169   62.132035  810.883148         NaN   \n",
       "1397  66.855435      0.244948  18946   58.697122   68.491318    9.794197   \n",
       "1398  54.712713      0.177143  19017   64.259212   74.955428   10.696216   \n",
       "\n",
       "     product_type quality warranty  market_share  attractiveness  \n",
       "0     auto-portee     Low     3ans      0.006360        0.650648  \n",
       "1     auto-portee     Low   3 ans.      0.006840        0.699792  \n",
       "2     auto-portee     Low    3_ans      0.006179        0.632129  \n",
       "3     auto-portee     Low   3 anss      0.007925        0.810730  \n",
       "4     auto-portee  Medium    3ans.      0.007406        0.757614  \n",
       "...           ...     ...      ...           ...             ...  \n",
       "1394      essence  Medium     1 an      0.000973        0.513126  \n",
       "1395      essence     Low     1ans      0.001038        0.547739  \n",
       "1396      essence     Low     1an.      0.001243        0.655622  \n",
       "1397      essence     Low     1 an      0.001644        0.867537  \n",
       "1398      essence     Low     1an.      0.001022        0.538969  \n",
       "\n",
       "[1399 rows x 11 columns]"
      ]
     },
     "execution_count": 271,
     "metadata": {},
     "output_type": "execute_result"
    }
   ],
   "source": [
    "missing_values = [\"n/a\", \"na\", \"--\", \"nan\", \"unknown\", \" \"]\n",
    "df = pd.read_csv('mower_market_snapshot.csv', sep = ';',na_values = missing_values)\n",
    "df"
   ]
  },
  {
   "cell_type": "markdown",
   "id": "modern-undergraduate",
   "metadata": {},
   "source": [
    "### 2) Appliquer le maximum de fonctions issue du support TD sur les données CSV "
   ]
  },
  {
   "cell_type": "code",
   "execution_count": 130,
   "id": "insured-shuttle",
   "metadata": {},
   "outputs": [
    {
     "data": {
      "text/plain": [
       "0       195.03551928211797\n",
       "1       151.31809934886763\n",
       "2       178.13731921134948\n",
       "3       162.82946157588628\n",
       "4       141.48693796090603\n",
       "               ...        \n",
       "1394    11.498540481074583\n",
       "1395    11.380588736668567\n",
       "1396               unknown\n",
       "1397     9.794196773761458\n",
       "1398    10.696216086742934\n",
       "Name: prod_cost, Length: 1399, dtype: object"
      ]
     },
     "execution_count": 130,
     "metadata": {},
     "output_type": "execute_result"
    }
   ],
   "source": [
    "series = pd.Series(df['prod_cost'])\n",
    "series"
   ]
  },
  {
   "cell_type": "markdown",
   "id": "honey-painting",
   "metadata": {},
   "source": [
    "### 3) Auditer et analyser la colonnes Prod_cost "
   ]
  },
  {
   "cell_type": "code",
   "execution_count": 273,
   "id": "figured-feedback",
   "metadata": {},
   "outputs": [
    {
     "name": "stdout",
     "output_type": "stream",
     "text": [
      "count    1368.000000\n",
      "mean       55.434239\n",
      "std        61.474453\n",
      "min       -64.000000\n",
      "25%        10.667699\n",
      "50%        12.141745\n",
      "75%       113.655262\n",
      "max       210.984941\n",
      "Name: prod_cost, dtype: float64\n",
      "(1399,)\n"
     ]
    }
   ],
   "source": [
    "print(df['prod_cost'].describe())\n",
    "print(df['prod_cost'].shape)"
   ]
  },
  {
   "cell_type": "markdown",
   "id": "canadian-jordan",
   "metadata": {},
   "source": [
    "### 4) Analyser le nombre de valeurs manquantes par colonnes "
   ]
  },
  {
   "cell_type": "code",
   "execution_count": 251,
   "id": "desperate-focus",
   "metadata": {},
   "outputs": [
    {
     "name": "stdout",
     "output_type": "stream",
     "text": [
      "capacity 0\n",
      "failure_rate 0\n",
      "id 0\n",
      "margin 0\n",
      "price 0\n",
      "prod_cost 31\n",
      "product_type 0\n",
      "quality 0\n",
      "warranty 0\n",
      "market_share 0\n",
      "attractiveness 0\n"
     ]
    }
   ],
   "source": [
    "for x in df:\n",
    "    print(x ,df[df[x].isnull()].shape[0])"
   ]
  },
  {
   "cell_type": "markdown",
   "id": "charitable-former",
   "metadata": {},
   "source": [
    "### 5) Remplacer les valeurs manquantes par la moyenne de la colonne (si possible) "
   ]
  },
  {
   "cell_type": "code",
   "execution_count": 252,
   "id": "progressive-opening",
   "metadata": {},
   "outputs": [],
   "source": [
    "moyenne = df[\"prod_cost\"].mean()\n",
    "df[\"prod_cost\"] = df[\"prod_cost\"].fillna(moyenne)"
   ]
  },
  {
   "cell_type": "markdown",
   "id": "arabic-testimony",
   "metadata": {},
   "source": [
    "### 6) Afficher les valeurs uniques de la colonne Warranty "
   ]
  },
  {
   "cell_type": "code",
   "execution_count": 253,
   "id": "weekly-husband",
   "metadata": {},
   "outputs": [
    {
     "data": {
      "text/plain": [
       "array(['3ans', '3 ans.', '3_ans', '3 anss', '3ans.', '3 ans', '3_ans.',\n",
       "       '3_anss', '3anss', '2 ans', '2 anss', '2anss', '2_ans', '2ans',\n",
       "       '2_ans.', '2 ans.', '2_anss', '2ans.', '1 an', '1an', '1_an.',\n",
       "       '1ans', '1an.', '1_ans', '1_an', '1 an.', '1 ans'], dtype=object)"
      ]
     },
     "execution_count": 253,
     "metadata": {},
     "output_type": "execute_result"
    }
   ],
   "source": [
    "df[\"warranty\"].unique()"
   ]
  },
  {
   "cell_type": "markdown",
   "id": "liberal-nursing",
   "metadata": {},
   "source": [
    "### 7) Traiter la colonne warranty afin d'uniformiser les valeurs (avoir uniquement des valeurs numériques uniformes) "
   ]
  },
  {
   "cell_type": "code",
   "execution_count": 254,
   "id": "stock-charter",
   "metadata": {},
   "outputs": [
    {
     "data": {
      "text/plain": [
       "(1399,)"
      ]
     },
     "execution_count": 254,
     "metadata": {},
     "output_type": "execute_result"
    }
   ],
   "source": [
    "df[\"warranty\"].shape"
   ]
  },
  {
   "cell_type": "code",
   "execution_count": 255,
   "id": "congressional-machinery",
   "metadata": {},
   "outputs": [],
   "source": [
    "df[\"warranty\"] = df[\"warranty\"].str[0].astype(int)"
   ]
  },
  {
   "cell_type": "code",
   "execution_count": 256,
   "id": "pretty-mitchell",
   "metadata": {},
   "outputs": [
    {
     "data": {
      "text/plain": [
       "array([3, 2, 1])"
      ]
     },
     "execution_count": 256,
     "metadata": {},
     "output_type": "execute_result"
    }
   ],
   "source": [
    "df[\"warranty\"].unique()"
   ]
  },
  {
   "cell_type": "markdown",
   "id": "african-petite",
   "metadata": {},
   "source": [
    "### 8) Traiter la colonne warranty afin d'obtenir une colonne numérique avec 3 valeurs uniques \n",
    "\n",
    " "
   ]
  },
  {
   "cell_type": "code",
   "execution_count": 233,
   "id": "electoral-march",
   "metadata": {},
   "outputs": [
    {
     "data": {
      "text/plain": [
       "array([3, 2, 1])"
      ]
     },
     "execution_count": 233,
     "metadata": {},
     "output_type": "execute_result"
    }
   ],
   "source": [
    "df[\"warranty\"].unique() #done"
   ]
  },
  {
   "cell_type": "markdown",
   "id": "absent-dakota",
   "metadata": {},
   "source": [
    "### 9) Traiter la colonne price afin d'avoir 3 catégories :  \n",
    "\n",
    "    - 0-300 \n",
    "\n",
    "    -301-500 \n",
    "\n",
    "    - 501- ++ "
   ]
  },
  {
   "cell_type": "code",
   "execution_count": 257,
   "id": "seven-coffee",
   "metadata": {},
   "outputs": [],
   "source": [
    "category1 = df[(df[\"price\"]>0) & (df[\"price\"]<=300)]\n",
    "category2 = df[(df[\"price\"]>300) & (df[\"price\"]<=500)]\n",
    "category3 = df[df[\"price\"]>500]"
   ]
  },
  {
   "cell_type": "markdown",
   "id": "respective-thread",
   "metadata": {},
   "source": [
    "### 10) Transformer la colonne product_type en colonne numérique avec 3 catégories :  \n",
    "\n",
    "    1 \n",
    "\n",
    "    2 \n",
    "\n",
    "    3 "
   ]
  },
  {
   "cell_type": "code",
   "execution_count": 258,
   "id": "featured-footwear",
   "metadata": {},
   "outputs": [
    {
     "data": {
      "text/plain": [
       "array(['auto-portee', 'electrique', 'essence'], dtype=object)"
      ]
     },
     "execution_count": 258,
     "metadata": {},
     "output_type": "execute_result"
    }
   ],
   "source": [
    "df[\"product_type\"].unique()"
   ]
  },
  {
   "cell_type": "code",
   "execution_count": 264,
   "id": "hidden-seventh",
   "metadata": {},
   "outputs": [],
   "source": [
    "df.loc[df[\"product_type\"]=='auto-portee',\"product_type\"]=1\n",
    "df.loc[df[\"product_type\"]=='electrique',\"product_type\"]=2\n",
    "df.loc[df[\"product_type\"]=='essence',\"product_type\"]=3"
   ]
  },
  {
   "cell_type": "code",
   "execution_count": 266,
   "id": "leading-republican",
   "metadata": {},
   "outputs": [
    {
     "data": {
      "text/plain": [
       "array([1, 2, 3], dtype=object)"
      ]
     },
     "execution_count": 266,
     "metadata": {},
     "output_type": "execute_result"
    }
   ],
   "source": [
    "df[\"product_type\"].unique()"
   ]
  },
  {
   "cell_type": "markdown",
   "id": "earlier-stupid",
   "metadata": {},
   "source": [
    "### 11) Puis créer 3 colonnes (auto-portée, essence, électrique) représentant une variable binaire avec 1 si le produit est du type de la colonne ou  0 sinon. \n",
    "\n",
    " "
   ]
  },
  {
   "cell_type": "code",
   "execution_count": 267,
   "id": "distributed-phone",
   "metadata": {},
   "outputs": [],
   "source": [
    "df[\"auto-portee\"]=0\n",
    "df[\"electrique\"]=0\n",
    "df[\"essence\"]=0"
   ]
  },
  {
   "cell_type": "code",
   "execution_count": 269,
   "id": "waiting-efficiency",
   "metadata": {},
   "outputs": [],
   "source": [
    "df.loc[df[\"product_type\"]==1,\"auto-portee\"]=1\n",
    "df.loc[df[\"product_type\"]==2,\"electrique\"]=1\n",
    "df.loc[df[\"product_type\"]==3,\"essence\"]=1"
   ]
  },
  {
   "cell_type": "code",
   "execution_count": 270,
   "id": "liable-consensus",
   "metadata": {},
   "outputs": [
    {
     "data": {
      "text/html": [
       "<div>\n",
       "<style scoped>\n",
       "    .dataframe tbody tr th:only-of-type {\n",
       "        vertical-align: middle;\n",
       "    }\n",
       "\n",
       "    .dataframe tbody tr th {\n",
       "        vertical-align: top;\n",
       "    }\n",
       "\n",
       "    .dataframe thead th {\n",
       "        text-align: right;\n",
       "    }\n",
       "</style>\n",
       "<table border=\"1\" class=\"dataframe\">\n",
       "  <thead>\n",
       "    <tr style=\"text-align: right;\">\n",
       "      <th></th>\n",
       "      <th>capacity</th>\n",
       "      <th>failure_rate</th>\n",
       "      <th>id</th>\n",
       "      <th>margin</th>\n",
       "      <th>price</th>\n",
       "      <th>prod_cost</th>\n",
       "      <th>product_type</th>\n",
       "      <th>quality</th>\n",
       "      <th>warranty</th>\n",
       "      <th>market_share</th>\n",
       "      <th>attractiveness</th>\n",
       "      <th>auto-portee</th>\n",
       "      <th>electrique</th>\n",
       "      <th>essence</th>\n",
       "    </tr>\n",
       "  </thead>\n",
       "  <tbody>\n",
       "    <tr>\n",
       "      <th>0</th>\n",
       "      <td>10.492623</td>\n",
       "      <td>0.042528</td>\n",
       "      <td>18377</td>\n",
       "      <td>633.766584</td>\n",
       "      <td>828.802103</td>\n",
       "      <td>195.035519</td>\n",
       "      <td>1</td>\n",
       "      <td>Low</td>\n",
       "      <td>3</td>\n",
       "      <td>0.006360</td>\n",
       "      <td>0.650648</td>\n",
       "      <td>1</td>\n",
       "      <td>0</td>\n",
       "      <td>0</td>\n",
       "    </tr>\n",
       "    <tr>\n",
       "      <th>1</th>\n",
       "      <td>20.273730</td>\n",
       "      <td>0.037896</td>\n",
       "      <td>19363</td>\n",
       "      <td>731.576817</td>\n",
       "      <td>882.894916</td>\n",
       "      <td>151.318099</td>\n",
       "      <td>1</td>\n",
       "      <td>Low</td>\n",
       "      <td>3</td>\n",
       "      <td>0.006840</td>\n",
       "      <td>0.699792</td>\n",
       "      <td>1</td>\n",
       "      <td>0</td>\n",
       "      <td>0</td>\n",
       "    </tr>\n",
       "    <tr>\n",
       "      <th>2</th>\n",
       "      <td>20.190457</td>\n",
       "      <td>0.039111</td>\n",
       "      <td>19641</td>\n",
       "      <td>741.218202</td>\n",
       "      <td>919.355522</td>\n",
       "      <td>178.137319</td>\n",
       "      <td>1</td>\n",
       "      <td>Low</td>\n",
       "      <td>3</td>\n",
       "      <td>0.006179</td>\n",
       "      <td>0.632129</td>\n",
       "      <td>1</td>\n",
       "      <td>0</td>\n",
       "      <td>0</td>\n",
       "    </tr>\n",
       "    <tr>\n",
       "      <th>3</th>\n",
       "      <td>27.220131</td>\n",
       "      <td>0.041303</td>\n",
       "      <td>18728</td>\n",
       "      <td>654.255635</td>\n",
       "      <td>817.085097</td>\n",
       "      <td>162.829462</td>\n",
       "      <td>1</td>\n",
       "      <td>Low</td>\n",
       "      <td>3</td>\n",
       "      <td>0.007925</td>\n",
       "      <td>0.810730</td>\n",
       "      <td>1</td>\n",
       "      <td>0</td>\n",
       "      <td>0</td>\n",
       "    </tr>\n",
       "    <tr>\n",
       "      <th>4</th>\n",
       "      <td>16.370911</td>\n",
       "      <td>0.037938</td>\n",
       "      <td>18722</td>\n",
       "      <td>703.094527</td>\n",
       "      <td>844.581465</td>\n",
       "      <td>141.486938</td>\n",
       "      <td>1</td>\n",
       "      <td>Medium</td>\n",
       "      <td>3</td>\n",
       "      <td>0.007406</td>\n",
       "      <td>0.757614</td>\n",
       "      <td>1</td>\n",
       "      <td>0</td>\n",
       "      <td>0</td>\n",
       "    </tr>\n",
       "    <tr>\n",
       "      <th>...</th>\n",
       "      <td>...</td>\n",
       "      <td>...</td>\n",
       "      <td>...</td>\n",
       "      <td>...</td>\n",
       "      <td>...</td>\n",
       "      <td>...</td>\n",
       "      <td>...</td>\n",
       "      <td>...</td>\n",
       "      <td>...</td>\n",
       "      <td>...</td>\n",
       "      <td>...</td>\n",
       "      <td>...</td>\n",
       "      <td>...</td>\n",
       "      <td>...</td>\n",
       "    </tr>\n",
       "    <tr>\n",
       "      <th>1394</th>\n",
       "      <td>44.959895</td>\n",
       "      <td>0.234647</td>\n",
       "      <td>18451</td>\n",
       "      <td>63.662561</td>\n",
       "      <td>75.161102</td>\n",
       "      <td>11.498540</td>\n",
       "      <td>3</td>\n",
       "      <td>Medium</td>\n",
       "      <td>1</td>\n",
       "      <td>0.000973</td>\n",
       "      <td>0.513126</td>\n",
       "      <td>0</td>\n",
       "      <td>0</td>\n",
       "      <td>1</td>\n",
       "    </tr>\n",
       "    <tr>\n",
       "      <th>1395</th>\n",
       "      <td>59.356058</td>\n",
       "      <td>0.253694</td>\n",
       "      <td>18663</td>\n",
       "      <td>64.014543</td>\n",
       "      <td>75.395132</td>\n",
       "      <td>11.380589</td>\n",
       "      <td>3</td>\n",
       "      <td>Low</td>\n",
       "      <td>1</td>\n",
       "      <td>0.001038</td>\n",
       "      <td>0.547739</td>\n",
       "      <td>0</td>\n",
       "      <td>0</td>\n",
       "      <td>1</td>\n",
       "    </tr>\n",
       "    <tr>\n",
       "      <th>1396</th>\n",
       "      <td>67.865222</td>\n",
       "      <td>0.228935</td>\n",
       "      <td>19169</td>\n",
       "      <td>62.132035</td>\n",
       "      <td>810.883148</td>\n",
       "      <td>55.434239</td>\n",
       "      <td>3</td>\n",
       "      <td>Low</td>\n",
       "      <td>1</td>\n",
       "      <td>0.001243</td>\n",
       "      <td>0.655622</td>\n",
       "      <td>0</td>\n",
       "      <td>0</td>\n",
       "      <td>1</td>\n",
       "    </tr>\n",
       "    <tr>\n",
       "      <th>1397</th>\n",
       "      <td>66.855435</td>\n",
       "      <td>0.244948</td>\n",
       "      <td>18946</td>\n",
       "      <td>58.697122</td>\n",
       "      <td>68.491318</td>\n",
       "      <td>9.794197</td>\n",
       "      <td>3</td>\n",
       "      <td>Low</td>\n",
       "      <td>1</td>\n",
       "      <td>0.001644</td>\n",
       "      <td>0.867537</td>\n",
       "      <td>0</td>\n",
       "      <td>0</td>\n",
       "      <td>1</td>\n",
       "    </tr>\n",
       "    <tr>\n",
       "      <th>1398</th>\n",
       "      <td>54.712713</td>\n",
       "      <td>0.177143</td>\n",
       "      <td>19017</td>\n",
       "      <td>64.259212</td>\n",
       "      <td>74.955428</td>\n",
       "      <td>10.696216</td>\n",
       "      <td>3</td>\n",
       "      <td>Low</td>\n",
       "      <td>1</td>\n",
       "      <td>0.001022</td>\n",
       "      <td>0.538969</td>\n",
       "      <td>0</td>\n",
       "      <td>0</td>\n",
       "      <td>1</td>\n",
       "    </tr>\n",
       "  </tbody>\n",
       "</table>\n",
       "<p>1399 rows × 14 columns</p>\n",
       "</div>"
      ],
      "text/plain": [
       "       capacity  failure_rate     id      margin       price   prod_cost  \\\n",
       "0     10.492623      0.042528  18377  633.766584  828.802103  195.035519   \n",
       "1     20.273730      0.037896  19363  731.576817  882.894916  151.318099   \n",
       "2     20.190457      0.039111  19641  741.218202  919.355522  178.137319   \n",
       "3     27.220131      0.041303  18728  654.255635  817.085097  162.829462   \n",
       "4     16.370911      0.037938  18722  703.094527  844.581465  141.486938   \n",
       "...         ...           ...    ...         ...         ...         ...   \n",
       "1394  44.959895      0.234647  18451   63.662561   75.161102   11.498540   \n",
       "1395  59.356058      0.253694  18663   64.014543   75.395132   11.380589   \n",
       "1396  67.865222      0.228935  19169   62.132035  810.883148   55.434239   \n",
       "1397  66.855435      0.244948  18946   58.697122   68.491318    9.794197   \n",
       "1398  54.712713      0.177143  19017   64.259212   74.955428   10.696216   \n",
       "\n",
       "     product_type quality  warranty  market_share  attractiveness  \\\n",
       "0               1     Low         3      0.006360        0.650648   \n",
       "1               1     Low         3      0.006840        0.699792   \n",
       "2               1     Low         3      0.006179        0.632129   \n",
       "3               1     Low         3      0.007925        0.810730   \n",
       "4               1  Medium         3      0.007406        0.757614   \n",
       "...           ...     ...       ...           ...             ...   \n",
       "1394            3  Medium         1      0.000973        0.513126   \n",
       "1395            3     Low         1      0.001038        0.547739   \n",
       "1396            3     Low         1      0.001243        0.655622   \n",
       "1397            3     Low         1      0.001644        0.867537   \n",
       "1398            3     Low         1      0.001022        0.538969   \n",
       "\n",
       "      auto-portee  electrique  essence  \n",
       "0               1           0        0  \n",
       "1               1           0        0  \n",
       "2               1           0        0  \n",
       "3               1           0        0  \n",
       "4               1           0        0  \n",
       "...           ...         ...      ...  \n",
       "1394            0           0        1  \n",
       "1395            0           0        1  \n",
       "1396            0           0        1  \n",
       "1397            0           0        1  \n",
       "1398            0           0        1  \n",
       "\n",
       "[1399 rows x 14 columns]"
      ]
     },
     "execution_count": 270,
     "metadata": {},
     "output_type": "execute_result"
    }
   ],
   "source": [
    "df"
   ]
  }
 ],
 "metadata": {
  "kernelspec": {
   "display_name": "Python 3",
   "language": "python",
   "name": "python3"
  },
  "language_info": {
   "codemirror_mode": {
    "name": "ipython",
    "version": 3
   },
   "file_extension": ".py",
   "mimetype": "text/x-python",
   "name": "python",
   "nbconvert_exporter": "python",
   "pygments_lexer": "ipython3",
   "version": "3.8.8"
  }
 },
 "nbformat": 4,
 "nbformat_minor": 5
}
